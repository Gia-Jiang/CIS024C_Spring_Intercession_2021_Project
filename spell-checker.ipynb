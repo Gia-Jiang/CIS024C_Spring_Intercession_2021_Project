{
 "cells": [
  {
   "cell_type": "markdown",
   "metadata": {},
   "source": [
    "# Spell-Checker - Spring Intercession 2021 CIS-24C Spell Checker"
   ]
  },
  {
   "cell_type": "markdown",
   "metadata": {},
   "source": [
    "## Project Description (100 points)\n",
    "\n",
    "This project involves creating a spell-checker problem that accepts a word from the user, look up that word in an available corpus and perform spell-correction on the word if the word is not present in the word corpus.\n",
    "\n",
    "the word corpus has been loaded and is available in a string named word corpus.\n",
    "\n",
    "You will need to do the following\n",
    "\n",
    "* Download both this program file and the associated google-10000-english.txt file to your computer.\n",
    "\n",
    "* Write a program using the WHILE loop that continuously asks the user to enter a word. If the user enters QUIT, then quit from the while loop and terminate the program. (20 points)\n",
    "\n",
    "* Once the user has entered the word, you will\n",
    "** Compare the word with the word corpus, if there is a match, then you will let the user know that the word is valid. Note that the comparison must be case insensitive. (20 points)\n",
    "\n",
    "** If there is no match, then you will need to look up the corpus for the word that best matches the word that the user entered and display that word to the user. (40 points)\n",
    "\n",
    "*Extra credit* (20 points)\n",
    "\n",
    "* Allow the user to enter a paragraph and perform an automated spell correction of the paragraph. \n",
    "For example, if the user enters \"Jack and Jill wen up the hills\", your program would return something like \"Jack and Jill went up the hill\"\n",
    "\n",
    "Other Points\n",
    "\n",
    "* 10 points will be awarded for the overall quality of the user interaction. \n",
    "* 10 points will be awarded for the proper use of Python including making sure that he code is optimal.\n",
    "\n",
    "#### Hints\n",
    "\n",
    "Typically, this is implemented by looking at each word in the list and determining the number of adds, updates, deletes that are needed in order to get from the candidate word to the input word. Each operation has a score associated with it, for example\n",
    "\n",
    "Update - 2 point\n",
    "Add - 1 point\n",
    "Delete - 2 point\n",
    "\n",
    "For example, \n",
    "\n",
    "##### input word: wen\n",
    "\n",
    "##### candidate word: win\n",
    "* To get from wen to win requires 1 update\n",
    "* Total score for win is 2 points\n",
    "\n",
    "##### candidate word: went\n",
    "* To get from wen to win requires 1 add\n",
    "* Total score for win is 1 point\n",
    "\n",
    "#####  candidate word: hello\n",
    "* To get from hello to win requires - 3 updates and 2 deletes\n",
    "* Total score for hello is 10 points\n",
    "\n",
    "At the end, after looking at all words in the list, you would pick the word with the lowest score as the match. In case you arrive a good match sooner, for performance reasons, you might want to stop and display the result.\n"
   ]
  },
  {
   "cell_type": "code",
   "execution_count": 21,
   "metadata": {},
   "outputs": [
    {
     "name": "stdout",
     "output_type": "stream",
     "text": [
      "Enter 'QUIT' if you want to get out of the program.\n",
      "Otherwise, enter a paragraph that you want to perform an automated spell correction on:\n",
      "Jack and Jill wen up the hills\n",
      "Best Match Is: jack\n",
      "Best Match Is: and\n",
      "Best Match Is: jill\n",
      "Best Match Is: went\n",
      "Best Match Is: up\n",
      "Best Match Is: the\n",
      "Best Match Is: hills\n",
      "Jack and Jill went up the hills\n",
      "Enter 'QUIT' if you want to get out of the program.\n",
      "Otherwise, enter a paragraph that you want to perform an automated spell correction on:\n",
      "QUIT\n",
      "You have exited the program.\n"
     ]
    }
   ],
   "source": [
    "# Extra Credit\n",
    "    ########################################\n",
    "while True:\n",
    "    inputPara = input(\"Enter 'QUIT' if you want to get out of the program.\\nOtherwise, enter a paragraph that you want to perform an automated spell correction on:\\n\")\n",
    "    correctWord = []\n",
    "    if inputPara == \"QUIT\":\n",
    "        print(\"You have exited the program.\")\n",
    "        break\n",
    "    for word in inputPara.split():   \n",
    "        if word[0].isupper():\n",
    "            word = similarity(word.lower(),wordCorpus).capitalize()                \n",
    "            correctWord.append(word)\n",
    "        else:\n",
    "            word = similarity(word,wordCorpus)                \n",
    "            correctWord.append(word)\n",
    "    correctPara = \" \".join(correctWord)\n",
    "    print(correctPara)\n",
    "    ########################################"
   ]
  },
  {
   "cell_type": "code",
   "execution_count": 12,
   "metadata": {},
   "outputs": [
    {
     "name": "stdout",
     "output_type": "stream",
     "text": [
      "This\n",
      "Delhi\n",
      "City\n",
      "India\n"
     ]
    }
   ],
   "source": [
    "# s1=\"This is not true that Delhi is the hottest or coldest City in India\"\n",
    "# for word in s1.split():\n",
    "#     if word[0].isupper():\n",
    "#         print (word)"
   ]
  },
  {
   "cell_type": "markdown",
   "metadata": {},
   "source": [
    "## Imports"
   ]
  },
  {
   "cell_type": "code",
   "execution_count": 4,
   "metadata": {},
   "outputs": [],
   "source": [
    "import string "
   ]
  },
  {
   "cell_type": "markdown",
   "metadata": {
    "collapsed": true
   },
   "source": [
    "## Run this cell to load the word corpus. The variable wordList has the list of all words in your corpus\n"
   ]
  },
  {
   "cell_type": "markdown",
   "metadata": {},
   "source": [
    "## Spellchecker"
   ]
  },
  {
   "cell_type": "code",
   "execution_count": 20,
   "metadata": {
    "scrolled": true
   },
   "outputs": [
    {
     "name": "stdout",
     "output_type": "stream",
     "text": [
      "Enter 'QUIT' if you want to get out of the program.\n",
      "Otherwise, enter a word that you want to check for validity:\n",
      "alic\n",
      "The word you just entered is invalid, but I find you the best match word.\n",
      "Best Match Is: alice\n",
      "Enter 'QUIT' if you want to get out of the program.\n",
      "Otherwise, enter a word that you want to check for validity:\n",
      "wen\n",
      "The word you just entered is invalid, but I find you the best match word.\n",
      "Best Match Is: went\n",
      "Enter 'QUIT' if you want to get out of the program.\n",
      "Otherwise, enter a word that you want to check for validity:\n",
      "rabbit\n",
      "The word you just entered is valid. Feel free to check for another word.\n",
      "Enter 'QUIT' if you want to get out of the program.\n",
      "Otherwise, enter a word that you want to check for validity:\n",
      "QUIT\n",
      "You have exited the program.\n"
     ]
    }
   ],
   "source": [
    "# My code for the WHILE loop \n",
    "########################################\n",
    "while True:\n",
    "    inputWord = input(\"Enter 'QUIT' if you want to get out of the program.\\nOtherwise, enter a word that you want to check for validity:\\n\")\n",
    "    if inputWord == \"QUIT\":\n",
    "        print(\"You have exited the program.\")\n",
    "        break\n",
    "    else:\n",
    "        inputWord.lower()   \n",
    "        if wordCorpus.count(inputWord) != 0:\n",
    "            print(\"The word you just entered is valid. Feel free to check for another word.\")\n",
    "            continue\n",
    "        else:\n",
    "            print(\"The word you just entered is invalid, but I find you the best match word.\")\n",
    "            similarity(inputWord,wordCorpus)\n",
    "########################################"
   ]
  },
  {
   "cell_type": "code",
   "execution_count": 35,
   "metadata": {},
   "outputs": [
    {
     "name": "stdout",
     "output_type": "stream",
     "text": [
      "Enter the word 'QUIT' if you would like to exit the program.\n",
      "Otherwise, please enter a word that you want to find:\n",
      "QUIT\n"
     ]
    }
   ],
   "source": [
    "#inputWord = input(\"Enter the word 'QUIT' if you would like to exit the program.\\nOtherwise, please enter a word that you want to find:\\n\")"
   ]
  },
  {
   "cell_type": "code",
   "execution_count": 19,
   "metadata": {},
   "outputs": [],
   "source": [
    "def similarity(inputWord,wordCorpus):\n",
    "    \n",
    "    # get list of words that share the relatively same size +/- 1 letter\n",
    "    \n",
    "    if len(inputWord) == 0:\n",
    "        print(\"Please provide a valid word\")\n",
    "        return \"INVALID_ENTRY\"\n",
    "    \n",
    "    lowerWordLen = len(inputWord) - 1\n",
    "    upperWordLen = len(inputWord) + 1\n",
    "    \n",
    "    # get the list of candidate words\n",
    "    candidateWords = []\n",
    "    \n",
    "    for entry in wordCorpus:\n",
    "        \n",
    "        # determine the set of words within one character distance of the input word\n",
    "        # and place it in the list candidateWords\n",
    "        if len(entry) >= lowerWordLen and len(entry) <= upperWordLen:\n",
    "            candidateWords.append(entry)\n",
    "\n",
    "    # perform similarity comparison\n",
    "    # You will need to look for words in the candidateWords list that best match\n",
    "    # the input word. For example, if the user input was \"wen\", a possible match is \"went\" \n",
    "    # or if the input word is \"rabbi\", a possible match is \"rabbit\"\n",
    "    # All candidate words are from the text \"Alice in Wonderland\"\n",
    "    bestMatchWord = None\n",
    "    \n",
    "    ########################################\n",
    "    def score(inputWord, word):\n",
    "        score = 0 \n",
    "        if len(word) > len(inputWord):\n",
    "            score += 1\n",
    "            for i in range(len(word)-1):\n",
    "                letterDifference = []\n",
    "                if inputWord[i] != word[i]:\n",
    "                    letterDifference.append(inputWord[i])\n",
    "                    score += 2 * len(letterDifference)\n",
    "        elif len(word) < len(inputWord):\n",
    "            score += 2\n",
    "            for i in range(len(inputWord)-1):\n",
    "                letterDifference = []\n",
    "                if inputWord[i] != word[i]:\n",
    "                    letterDifference.append(inputWord[i])\n",
    "                    score += 2 * len(letterDifference)\n",
    "        else:\n",
    "            for i in range(len(inputWord)):\n",
    "                letterDifference = []\n",
    "                if inputWord[i] != word[i]:\n",
    "                    letterDifference.append(inputWord[i])\n",
    "                    score += 2 * len(letterDifference)\n",
    "    \n",
    "        return score\n",
    "    wordScore = {}\n",
    "    for word in candidateWords:\n",
    "        wordScore[word] = score(inputWord,word)\n",
    "    temp = min(wordScore.values())\n",
    "    for word in candidateWords:    \n",
    "        if wordScore[word] == temp:\n",
    "            bestMatchWord = word \n",
    "    ########################################\n",
    "    # display the best match\n",
    "    print(\"Best Match Is:\",bestMatchWord)\n",
    "    \n",
    "    return bestMatchWord        "
   ]
  },
  {
   "cell_type": "code",
   "execution_count": 18,
   "metadata": {},
   "outputs": [
    {
     "name": "stdout",
     "output_type": "stream",
     "text": [
      "Best Match Is: went\n",
      "Time taken:0.7647497653961182 seconds\n"
     ]
    }
   ],
   "source": [
    "import time\n",
    "\n",
    "startTime = time.time()\n",
    "\n",
    "'''\n",
    "#### START: Load the word file and parse content and move it to the wordCorpus list ####\n",
    "'''\n",
    "\n",
    "# take all words from alice and store them in memory\n",
    "wordCorpusFile = open('google-10000-english.txt',encoding='utf-8')\n",
    "\n",
    "wordCorpus = []\n",
    "\n",
    "for line in wordCorpusFile:\n",
    "    \n",
    "    # remove newlines\n",
    "    line = line.strip().lower()\n",
    "    \n",
    "    # get words\n",
    "    words = line.split(\" \")\n",
    "    \n",
    "    for word in words:\n",
    "        if word.isalnum():\n",
    "            if word not in wordCorpus:\n",
    "                wordCorpus.append(word)\n",
    "                \n",
    "###### END - LOAD WORD CORPUS into WordCorpus variable #####\n",
    "\n",
    "### BEGIN - Call Similarity function ####\n",
    "                \n",
    "similarity(\"wen\",wordCorpus)\n",
    "\n",
    "elapsedTime = time.time() - startTime\n",
    "\n",
    "print(\"Time taken:%s seconds\" % elapsedTime)"
   ]
  },
  {
   "cell_type": "code",
   "execution_count": 44,
   "metadata": {},
   "outputs": [],
   "source": [
    "# cadidates = ['lisa','lucy','Ray']\n",
    "# for i in cadidates:\n",
    "#     i = i + \"hello\"\n",
    "#     print(i)"
   ]
  },
  {
   "cell_type": "code",
   "execution_count": 116,
   "metadata": {
    "scrolled": true
   },
   "outputs": [
    {
     "name": "stdout",
     "output_type": "stream",
     "text": [
      "<class 'dict_values'>\n",
      "The best match is: went\n"
     ]
    }
   ],
   "source": [
    "# wordScore = {}\n",
    "# for word in [\"went\",\"want\",\"yen\",\"we\",\"wo\"]:\n",
    "#     wordScore[word] = score(\"wen\",word)\n",
    "    \n",
    "# temp = min(wordScore.values())\n",
    "# print(type(wordScore.values()))\n",
    "# for word in [\"went\",\"want\",\"yen\",\"we\",\"wo\"]:\n",
    "#     if wordScore[word] == temp:\n",
    "#         bestMatchWord = word\n",
    "#         print(\"The best match is:\",bestMatchWord)\n",
    "\n",
    "# # temp = min(wordScore.values())\n",
    "# # for word in [\"went\",\"want\",\"yen\",\"we\",\"wo\"]:\n",
    "# #     if wordScore[word] == temp:\n",
    "# #         bestMatchWord = []\n",
    "# #         bestMatchWord.append(word)\n",
    "# #         print(bestMatchWord)"
   ]
  },
  {
   "cell_type": "code",
   "execution_count": 114,
   "metadata": {
    "scrolled": true
   },
   "outputs": [
    {
     "name": "stdout",
     "output_type": "stream",
     "text": [
      "1\n",
      "3\n",
      "2\n",
      "2\n",
      "4\n"
     ]
    }
   ],
   "source": [
    "# def score(inputWord, word):\n",
    "#     score = 0 \n",
    "#     if len(word) > len(inputWord):\n",
    "#         score += 1\n",
    "#         for letter in word[0:-1]:\n",
    "#             if letter not in inputWord:\n",
    "#                 letterDifference = []\n",
    "#                 letterDifference.append(letter)\n",
    "#                 score += 2 * len(letterDifference)\n",
    "#     elif len(word) < len(inputWord):\n",
    "#             score += 2\n",
    "#             for letter in word:\n",
    "#                 if letter not in inputWord:\n",
    "#                     letterDifference = []\n",
    "#                     letterDifference.append(letter)\n",
    "#                     score += 2 * len(letterDifference)\n",
    "#     else:\n",
    "#         for i in range(len(\"wen\")):\n",
    "#             if \"wen\"[i] != word[i]:\n",
    "#                 letterDifference = []\n",
    "#                 letterDifference.append(\"wen\"[i])\n",
    "#                 score += 2 * len(letterDifference)\n",
    "    \n",
    "#     return score\n",
    "# print(score(\"wen\",\"went\"))\n",
    "# print(score(\"wen\",\"want\"))\n",
    "# print(score(\"wen\",\"yen\"))\n",
    "# print(score(\"wen\",\"we\"))\n",
    "# print(score(\"wen\",\"wo\"))"
   ]
  }
 ],
 "metadata": {
  "kernelspec": {
   "display_name": "Python 3",
   "language": "python",
   "name": "python3"
  },
  "language_info": {
   "codemirror_mode": {
    "name": "ipython",
    "version": 3
   },
   "file_extension": ".py",
   "mimetype": "text/x-python",
   "name": "python",
   "nbconvert_exporter": "python",
   "pygments_lexer": "ipython3",
   "version": "3.8.5"
  }
 },
 "nbformat": 4,
 "nbformat_minor": 1
}
